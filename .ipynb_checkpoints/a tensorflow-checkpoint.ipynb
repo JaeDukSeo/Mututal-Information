{
 "cells": [
  {
   "cell_type": "code",
   "execution_count": 5,
   "metadata": {},
   "outputs": [],
   "source": [
    "# library\n",
    "import tensorflow as tf\n",
    "import numpy as np,sys\n",
    "import matplotlib.pyplot as plt\n",
    "tf.set_random_seed(6789)\n",
    "np.random.seed(678)"
   ]
  },
  {
   "cell_type": "code",
   "execution_count": 8,
   "metadata": {
    "code_folding": [
     0,
     5,
     23
    ]
   },
   "outputs": [
    {
     "name": "stdout",
     "output_type": "stream",
     "text": [
      "(10000, 140)\n",
      "3.122075475590634\n"
     ]
    }
   ],
   "source": [
    "# create the normal distribution\n",
    "def det(array_or_scalar):\n",
    "    if array_or_scalar.size > 1:\n",
    "        return np.linalg.det(array_or_scalar)\n",
    "    else:\n",
    "        return array_or_scalar\n",
    "def get_h_mvn(x):\n",
    "\n",
    "    \"\"\"\n",
    "    Computes the entropy of a multivariate Gaussian distribution:\n",
    "    H(X) = (1/2) * log((2 * pi * e)^d * det(cov(X)))\n",
    "    Arguments:\n",
    "    ----------\n",
    "    x: (n, d) ndarray\n",
    "        n samples from a d-dimensional multivariate normal distribution\n",
    "    Returns:\n",
    "    --------\n",
    "    h: float\n",
    "        entropy H(X)\n",
    "    \"\"\"\n",
    "\n",
    "    d = x.shape[1]\n",
    "    h  = 0.5 * np.log((2 * np.pi * np.e)**d * det(np.cov(x.T)))\n",
    "    return h\n",
    "def get_mi_mvn(x, y):\n",
    "    \"\"\"\n",
    "    Computes the mutual information I between two multivariate normal random\n",
    "    variables, X and Y:\n",
    "    I(X, Y) = H(X) + H(Y) - H(X, Y)\n",
    "    Arguments:\n",
    "    ----------\n",
    "    x, y: (n, d) ndarrays\n",
    "        n samples from d-dimensional multivariate normal distributions\n",
    "    Returns:\n",
    "    --------\n",
    "    mi: float\n",
    "        mutual information I(X, Y)\n",
    "    \"\"\"\n",
    "\n",
    "    d = x.shape[1]\n",
    "\n",
    "    # hx  = 0.5 * log((2 * np.pi * np.e)**d     * det(np.cov(x.T)))\n",
    "    # hy  = 0.5 * log((2 * np.pi * np.e)**d     * det(np.cov(y.T)))\n",
    "    # hxy = 0.5 * log((2 * np.pi * np.e)**(2*d) * det(np.cov(x.T, y=y.T)))\n",
    "    # mi = hx + hy - hxy\n",
    "\n",
    "    # hx  = 0.5 * log(det(2*np.pi*np.e*np.cov(x.T)))\n",
    "    # hy  = 0.5 * log(det(2*np.pi*np.e*np.cov(y.T)))\n",
    "    # hxy = 0.5 * log(det(2*np.pi*np.e*np.cov(np.c_[x,y].T)))\n",
    "    hx  = get_h_mvn(x)\n",
    "    hy  = get_h_mvn(y)\n",
    "    hxy = get_h_mvn(np.c_[x,y])\n",
    "    mi = hx + hy - hxy\n",
    "\n",
    "    # mi = 0.5 * (log(det(np.cov(x.T))) + log(det(np.cov(y.T))) - log(det(np.cov(np.c_[x,y].T))))\n",
    "\n",
    "    return mi\n",
    "\n",
    "N=900000\n",
    "dimension = 140\n",
    "mean  = np.zeros(dimension)\n",
    "sigma = np.ones((dimension,dimension)) * 0.9\n",
    "np.fill_diagonal(sigma,1.0)\n",
    "\n",
    "temp  = np.random.multivariate_normal(mean,sigma,10000)\n",
    "x_sample = temp[:,:dimension//2]\n",
    "y_sample = temp[:,dimension//2:]\n",
    "mi = get_mi_mvn(x_sample,y_sample)\n",
    "print(temp.shape)\n",
    "print(mi)"
   ]
  },
  {
   "cell_type": "code",
   "execution_count": null,
   "metadata": {},
   "outputs": [],
   "source": []
  },
  {
   "cell_type": "code",
   "execution_count": null,
   "metadata": {},
   "outputs": [],
   "source": [
    "values = []\n",
    "# sess = tf.InteractiveSession()\n",
    "sess.run(tf.global_variables_initializer())\n",
    "for i in range(1000):\n",
    "    #x_sample  = np.random.normal(0.,sig1,[N,1])\n",
    "    #y_sample  = np.random.normal(0.,sig2,[N,1])\n",
    "    y_shuffle = np.random.permutation(y_sample)\n",
    "    number,_  = sess.run([lower_bound,train_step], feed_dict={x:x_sample,y:y_sample,y_:y_shuffle})\n",
    "    sys.stdout.write(\"\\r\" + str(number))\n",
    "    sys.stdout.flush()\n",
    "    values.append(number)\n",
    "    \n",
    "plt.plot(values)\n",
    "plt.plot(np.ones_like(values)*mi)\n",
    "plt.show()"
   ]
  },
  {
   "cell_type": "code",
   "execution_count": null,
   "metadata": {},
   "outputs": [],
   "source": []
  },
  {
   "cell_type": "code",
   "execution_count": null,
   "metadata": {},
   "outputs": [],
   "source": []
  },
  {
   "cell_type": "code",
   "execution_count": null,
   "metadata": {},
   "outputs": [],
   "source": []
  },
  {
   "cell_type": "code",
   "execution_count": null,
   "metadata": {},
   "outputs": [],
   "source": []
  },
  {
   "cell_type": "code",
   "execution_count": 12,
   "metadata": {},
   "outputs": [
    {
     "name": "stdout",
     "output_type": "stream",
     "text": [
      "On branch master\r\n",
      "Your branch is up to date with 'origin/master'.\r\n",
      "\r\n",
      "nothing to commit, working tree clean\r\n"
     ]
    }
   ],
   "source": [
    "! git all-go"
   ]
  },
  {
   "cell_type": "code",
   "execution_count": null,
   "metadata": {},
   "outputs": [],
   "source": []
  }
 ],
 "metadata": {
  "kernelspec": {
   "display_name": "Python 3",
   "language": "python",
   "name": "python3"
  },
  "language_info": {
   "codemirror_mode": {
    "name": "ipython",
    "version": 3
   },
   "file_extension": ".py",
   "mimetype": "text/x-python",
   "name": "python",
   "nbconvert_exporter": "python",
   "pygments_lexer": "ipython3",
   "version": "3.6.8"
  },
  "latex_envs": {
   "LaTeX_envs_menu_present": true,
   "autoclose": false,
   "autocomplete": true,
   "bibliofile": "biblio.bib",
   "cite_by": "apalike",
   "current_citInitial": 1,
   "eqLabelWithNumbers": true,
   "eqNumInitial": 1,
   "hotkeys": {
    "equation": "Ctrl-E",
    "itemize": "Ctrl-I"
   },
   "labels_anchors": false,
   "latex_user_defs": false,
   "report_style_numbering": false,
   "user_envs_cfg": false
  },
  "toc": {
   "base_numbering": 1,
   "nav_menu": {},
   "number_sections": true,
   "sideBar": true,
   "skip_h1_title": false,
   "title_cell": "Table of Contents",
   "title_sidebar": "Contents",
   "toc_cell": false,
   "toc_position": {},
   "toc_section_display": true,
   "toc_window_display": false
  }
 },
 "nbformat": 4,
 "nbformat_minor": 2
}
