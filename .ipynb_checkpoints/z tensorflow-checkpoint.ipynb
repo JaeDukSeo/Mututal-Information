{
 "cells": [
  {
   "cell_type": "code",
   "execution_count": 33,
   "metadata": {},
   "outputs": [],
   "source": [
    "# import libary\n",
    "import tensorflow as tf\n",
    "tf.set_random_seed(6789)\n",
    "import numpy as np\n",
    "import matplotlib.pyplot as plt\n",
    "import sys "
   ]
  },
  {
   "cell_type": "code",
   "execution_count": 26,
   "metadata": {},
   "outputs": [
    {
     "name": "stdout",
     "output_type": "stream",
     "text": [
      "0.6592202048562272\n"
     ]
    }
   ],
   "source": [
    "N=100000\n",
    "sig2=0.2\n",
    "x=np.sign(np.random.normal(0.,1.,[N,1]))\n",
    "y=x+np.random.normal(0.,np.sqrt(sig2),[N,1])\n",
    "p_y_x=np.exp(-(y-x)**2/(2*sig2))\n",
    "p_y_x_minus=np.exp(-(y+1)**2/(2*sig2))\n",
    "p_y_x_plus=np.exp(-(y-1)**2/(2*sig2))\n",
    "mi=np.average(np.log(p_y_x/(0.5*p_y_x_minus+0.5*p_y_x_plus)))\n",
    "print(mi)"
   ]
  },
  {
   "cell_type": "code",
   "execution_count": 17,
   "metadata": {},
   "outputs": [
    {
     "name": "stderr",
     "output_type": "stream",
     "text": [
      "/anaconda3/lib/python3.6/site-packages/tensorflow/python/client/session.py:1702: UserWarning: An interactive session is already active. This can cause out-of-memory errors in some cases. You must explicitly call `InteractiveSession.close()` to release resources held by the other session(s).\n",
      "  warnings.warn('An interactive session is already active. This can '\n"
     ]
    }
   ],
   "source": [
    "x = tf.placeholder(tf.float32, [None,1])\n",
    "y = tf.placeholder(tf.float32, [None,1])\n",
    "y_ = tf.placeholder(tf.float32, [None,1])\n",
    " \n",
    "n_hidden=10\n",
    " \n",
    "Wx=tf.Variable(tf.random_normal(stddev=0.1,shape=[1,n_hidden]))\n",
    "Wy=tf.Variable(tf.random_normal(stddev=0.1,shape=[1,n_hidden]))\n",
    "b=tf.Variable(tf.constant(0.1,shape=[n_hidden]))\n",
    " \n",
    "hidden_joint=tf.nn.relu(tf.matmul(x,Wx)+tf.matmul(y,Wy)+b)\n",
    "hidden_marg=tf.nn.relu(tf.matmul(x,Wx)+tf.matmul(y_,Wy)+b)\n",
    " \n",
    "Wout=tf.Variable(tf.random_normal(stddev=0.1,shape=[n_hidden,1]))\n",
    "bout=tf.Variable(tf.constant(0.1,shape=[1]))\n",
    " \n",
    "out_joint=tf.matmul(hidden_joint,Wout)+bout\n",
    "out_marg=tf.matmul(hidden_marg,Wout)+bout\n",
    " \n",
    "lower_bound=tf.reduce_mean(out_joint)-tf.log(tf.reduce_mean(tf.exp(out_marg)))\n",
    " \n",
    "train_step = tf.train.AdamOptimizer(0.005).minimize(-lower_bound)\n",
    "\n",
    "values = []\n",
    "sess = tf.InteractiveSession()\n",
    "sess.run(tf.global_variables_initializer())\n",
    "for i in range(1000):\n",
    "    x_sample=np.sign(np.random.normal(0.,1.,[N,1]))#np.random.normal(0.,1.,[N,1])\n",
    "    y_sample=x_sample+np.random.normal(0.,np.sqrt(sig2),[N,1])\n",
    "    y_shuffle=np.random.permutation(y_sample)\n",
    "    number,_ = sess.run([lower_bound,train_step], feed_dict={x:x_sample,y:y_sample,y_:y_shuffle})\n",
    "    values.append(number)"
   ]
  },
  {
   "cell_type": "code",
   "execution_count": 18,
   "metadata": {},
   "outputs": [
    {
     "name": "stdout",
     "output_type": "stream",
     "text": [
      "1000\n"
     ]
    }
   ],
   "source": [
    "print(len(values))"
   ]
  },
  {
   "cell_type": "code",
   "execution_count": 27,
   "metadata": {},
   "outputs": [
    {
     "data": {
      "image/png": "[encoded data removed]",
      "text/plain": [
       "<Figure size 432x288 with 1 Axes>"
      ]
     },
     "metadata": {
      "needs_background": "light"
     },
     "output_type": "display_data"
    }
   ],
   "source": [
    "plt.plot(values)\n",
    "plt.plot(np.ones_like(values)*mi)\n",
    "plt.show()"
   ]
  },
  {
   "cell_type": "code",
   "execution_count": 37,
   "metadata": {},
   "outputs": [
    {
     "name": "stdout",
     "output_type": "stream",
     "text": [
      "0.25541281188299536\n"
     ]
    }
   ],
   "source": [
    "# with two guassian\n",
    "N=100000\n",
    "sig1 = 0.2\n",
    "sig2 = 0.3\n",
    "mi = 0.5 * np.log(1+sig1/ sig2)\n",
    "print(mi)"
   ]
  },
  {
   "cell_type": "code",
   "execution_count": 79,
   "metadata": {
    "code_folding": [
     0,
     5,
     23
    ]
   },
   "outputs": [
    {
     "name": "stdout",
     "output_type": "stream",
     "text": [
      "1.952636521277309\n",
      "(10000, 1)\n"
     ]
    }
   ],
   "source": [
    "def det(array_or_scalar):\n",
    "    if array_or_scalar.size > 1:\n",
    "        return np.linalg.det(array_or_scalar)\n",
    "    else:\n",
    "        return array_or_scalar\n",
    "def get_h_mvn(x):\n",
    "\n",
    "    \"\"\"\n",
    "    Computes the entropy of a multivariate Gaussian distribution:\n",
    "    H(X) = (1/2) * log((2 * pi * e)^d * det(cov(X)))\n",
    "    Arguments:\n",
    "    ----------\n",
    "    x: (n, d) ndarray\n",
    "        n samples from a d-dimensional multivariate normal distribution\n",
    "    Returns:\n",
    "    --------\n",
    "    h: float\n",
    "        entropy H(X)\n",
    "    \"\"\"\n",
    "\n",
    "    d = x.shape[1]\n",
    "    h  = 0.5 * np.log((2 * np.pi * np.e)**d * det(np.cov(x.T)))\n",
    "    return h\n",
    "def get_mi_mvn(x, y):\n",
    "    \"\"\"\n",
    "    Computes the mutual information I between two multivariate normal random\n",
    "    variables, X and Y:\n",
    "    I(X, Y) = H(X) + H(Y) - H(X, Y)\n",
    "    Arguments:\n",
    "    ----------\n",
    "    x, y: (n, d) ndarrays\n",
    "        n samples from d-dimensional multivariate normal distributions\n",
    "    Returns:\n",
    "    --------\n",
    "    mi: float\n",
    "        mutual information I(X, Y)\n",
    "    \"\"\"\n",
    "\n",
    "    d = x.shape[1]\n",
    "\n",
    "    # hx  = 0.5 * log((2 * np.pi * np.e)**d     * det(np.cov(x.T)))\n",
    "    # hy  = 0.5 * log((2 * np.pi * np.e)**d     * det(np.cov(y.T)))\n",
    "    # hxy = 0.5 * log((2 * np.pi * np.e)**(2*d) * det(np.cov(x.T, y=y.T)))\n",
    "    # mi = hx + hy - hxy\n",
    "\n",
    "    # hx  = 0.5 * log(det(2*np.pi*np.e*np.cov(x.T)))\n",
    "    # hy  = 0.5 * log(det(2*np.pi*np.e*np.cov(y.T)))\n",
    "    # hxy = 0.5 * log(det(2*np.pi*np.e*np.cov(np.c_[x,y].T)))\n",
    "    hx  = get_h_mvn(x)\n",
    "    hy  = get_h_mvn(y)\n",
    "    hxy = get_h_mvn(np.c_[x,y])\n",
    "    mi = hx + hy - hxy\n",
    "\n",
    "    # mi = 0.5 * (log(det(np.cov(x.T))) + log(det(np.cov(y.T))) - log(det(np.cov(np.c_[x,y].T))))\n",
    "\n",
    "    return mi\n",
    "\n",
    "N=10000\n",
    "sig1 = 1.\n",
    "dependent = 0.99\n",
    "mean  =  [0,0]\n",
    "sigma = np.array([\n",
    "    [1,dependent],\n",
    "    [dependent,1]\n",
    "])\n",
    "temp  = np.random.multivariate_normal(mean,sigma,10000)\n",
    "x_sample = temp[:,0][:,None]\n",
    "y_sample = temp[:,1][:,None]\n",
    "mi = get_mi_mvn(x_sample,y_sample)\n",
    "print(mi)\n",
    "print(x_sample.shape)"
   ]
  },
  {
   "cell_type": "code",
   "execution_count": 48,
   "metadata": {},
   "outputs": [
    {
     "name": "stdout",
     "output_type": "stream",
     "text": [
      "2.2888184e-0555"
     ]
    }
   ],
   "source": [
    "x = tf.placeholder(tf.float32, [None,1])\n",
    "y = tf.placeholder(tf.float32, [None,1])\n",
    "y_ = tf.placeholder(tf.float32, [None,1])\n",
    " \n",
    "n_hidden=10\n",
    " \n",
    "Wx=tf.Variable(tf.random_normal(stddev=0.1,shape=[1,n_hidden]))\n",
    "Wy=tf.Variable(tf.random_normal(stddev=0.1,shape=[1,n_hidden]))\n",
    "b=tf.Variable(tf.constant(0.1,shape=[n_hidden]))\n",
    " \n",
    "hidden_joint=tf.nn.relu(tf.matmul(x,Wx)+tf.matmul(y,Wy)+b)\n",
    "hidden_marg=tf.nn.relu(tf.matmul(x,Wx)+tf.matmul(y_,Wy)+b)\n",
    " \n",
    "Wout=tf.Variable(tf.random_normal(stddev=0.1,shape=[n_hidden,1]))\n",
    "bout=tf.Variable(tf.constant(0.1,shape=[1]))\n",
    " \n",
    "out_joint=tf.matmul(hidden_joint,Wout)+bout\n",
    "out_marg=tf.matmul(hidden_marg,Wout)+bout\n",
    " \n",
    "lower_bound=tf.reduce_mean(out_joint)-tf.log(tf.reduce_mean(tf.exp(out_marg)))\n",
    " \n",
    "train_step = tf.train.AdamOptimizer(0.005).minimize(-lower_bound)\n",
    "\n",
    "values = []\n",
    "# sess = tf.InteractiveSession()\n",
    "sess.run(tf.global_variables_initializer())\n",
    "for i in range(1000):\n",
    "    #x_sample  = np.random.normal(0.,sig1,[N,1])\n",
    "    #y_sample  = np.random.normal(0.,sig2,[N,1])\n",
    "    y_shuffle = np.random.permutation(y_sample)\n",
    "    number,_  = sess.run([lower_bound,train_step], feed_dict={x:x_sample,y:y_sample,y_:y_shuffle})\n",
    "    sys.stdout.write(\"\\r\" + str(number))\n",
    "    sys.stdout.flush()\n",
    "    values.append(number)"
   ]
  },
  {
   "cell_type": "code",
   "execution_count": 51,
   "metadata": {},
   "outputs": [
    {
     "data": {
      "image/png": "[encoded data removed]",
      "text/plain": [
       "<Figure size 432x288 with 1 Axes>"
      ]
     },
     "metadata": {
      "needs_background": "light"
     },
     "output_type": "display_data"
    }
   ],
   "source": [
    "plt.plot(values)\n",
    "plt.plot(np.ones_like(values)*mi)\n",
    "plt.show()"
   ]
  },
  {
   "cell_type": "code",
   "execution_count": 40,
   "metadata": {},
   "outputs": [
    {
     "name": "stdout",
     "output_type": "stream",
     "text": [
      "[master 21c0700] commit\n",
      " 1 file changed, 6 insertions(+), 6 deletions(-)\n",
      "Counting objects: 3, done.\n",
      "Delta compression using up to 4 threads.\n",
      "Compressing objects: 100% (3/3), done.\n",
      "Writing objects: 100% (3/3), 382 bytes | 382.00 KiB/s, done.\n",
      "Total 3 (delta 2), reused 0 (delta 0)\n",
      "remote: Resolving deltas: 100% (2/2), completed with 2 local objects.\u001b[K\n",
      "To https://github.com/JaeDukSeo/Mututal-Information.git\n",
      "   7065f5f..21c0700  master -> master\n"
     ]
    }
   ],
   "source": [
    "! git all-go"
   ]
  },
  {
   "cell_type": "code",
   "execution_count": null,
   "metadata": {},
   "outputs": [],
   "source": []
  }
 ],
 "metadata": {
  "kernelspec": {
   "display_name": "Python 3",
   "language": "python",
   "name": "python3"
  },
  "language_info": {
   "codemirror_mode": {
    "name": "ipython",
    "version": 3
   },
   "file_extension": ".py",
   "mimetype": "text/x-python",
   "name": "python",
   "nbconvert_exporter": "python",
   "pygments_lexer": "ipython3",
   "version": "3.6.8"
  },
  "latex_envs": {
   "LaTeX_envs_menu_present": true,
   "autoclose": false,
   "autocomplete": true,
   "bibliofile": "biblio.bib",
   "cite_by": "apalike",
   "current_citInitial": 1,
   "eqLabelWithNumbers": true,
   "eqNumInitial": 1,
   "hotkeys": {
    "equation": "Ctrl-E",
    "itemize": "Ctrl-I"
   },
   "labels_anchors": false,
   "latex_user_defs": false,
   "report_style_numbering": false,
   "user_envs_cfg": false
  },
  "toc": {
   "base_numbering": 1,
   "nav_menu": {},
   "number_sections": true,
   "sideBar": true,
   "skip_h1_title": false,
   "title_cell": "Table of Contents",
   "title_sidebar": "Contents",
   "toc_cell": false,
   "toc_position": {},
   "toc_section_display": true,
   "toc_window_display": false
  }
 },
 "nbformat": 4,
 "nbformat_minor": 2
}
