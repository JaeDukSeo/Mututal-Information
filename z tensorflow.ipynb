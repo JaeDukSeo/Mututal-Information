{
 "cells": [
  {
   "cell_type": "code",
   "execution_count": 5,
   "metadata": {},
   "outputs": [],
   "source": [
    "# import libary\n",
    "import tensorflow as tf\n",
    "tf.set_random_seed(6789)\n",
    "import numpy as np\n",
    "import matplotlib.pyplot as plt"
   ]
  },
  {
   "cell_type": "code",
   "execution_count": 24,
   "metadata": {},
   "outputs": [
    {
     "name": "stdout",
     "output_type": "stream",
     "text": [
      "[[ 1.]\n",
      " [ 1.]\n",
      " [-1.]\n",
      " ...\n",
      " [ 1.]\n",
      " [ 1.]\n",
      " [ 1.]]\n",
      "[[ 1.46349979]\n",
      " [ 1.02557735]\n",
      " [-1.04096742]\n",
      " ...\n",
      " [ 1.69471646]\n",
      " [ 1.43639941]\n",
      " [ 0.86886968]]\n"
     ]
    }
   ],
   "source": [
    "N=100000\n",
    "sig2=0.2\n",
    "x=np.sign(np.random.normal(0.,1.,[N,1]))\n",
    "y=x+np.random.normal(0.,np.sqrt(sig2),[N,1])\n",
    "\n",
    "print(x)\n",
    "print(y)\n",
    "p_y_x=np.exp(-(y-x)**2/(2*sig2))\n",
    "p_y_x_minus=np.exp(-(y+1)**2/(2*sig2))\n",
    "p_y_x_plus=np.exp(-(y-1)**2/(2*sig2))\n",
    "mi=np.average(np.log2(p_y_x/(0.5*p_y_x_minus+0.5*p_y_x_plus)))"
   ]
  },
  {
   "cell_type": "code",
   "execution_count": null,
   "metadata": {},
   "outputs": [],
   "source": [
    "\n",
    "# data\n",
    "var = 0.2\n",
    "def func(x): return x\n",
    "def gen_x(): return np.sign(np.random.normal(0.,1.,[data_size,1]))\n",
    "def gen_y(x):return func(x)+np.random.normal(0.,np.sqrt(var),[data_size,1])\n",
    "data_size = 1000000\n",
    "x=gen_x()\n",
    "y=gen_y(x)\n",
    "p_y_x=np.exp(-(y-x)**2/(2*var))\n",
    "p_y_x_minus=np.exp(-(y+1)**2/(2*var))\n",
    "p_y_x_plus=np.exp(-(y-1)**2/(2*var))\n",
    "mi=np.average(np.log(p_y_x/(0.5*p_y_x_minus+0.5*p_y_x_plus)))\n",
    "mi"
   ]
  },
  {
   "cell_type": "code",
   "execution_count": 17,
   "metadata": {},
   "outputs": [
    {
     "name": "stderr",
     "output_type": "stream",
     "text": [
      "/anaconda3/lib/python3.6/site-packages/tensorflow/python/client/session.py:1702: UserWarning: An interactive session is already active. This can cause out-of-memory errors in some cases. You must explicitly call `InteractiveSession.close()` to release resources held by the other session(s).\n",
      "  warnings.warn('An interactive session is already active. This can '\n"
     ]
    }
   ],
   "source": [
    "x = tf.placeholder(tf.float32, [None,1])\n",
    "y = tf.placeholder(tf.float32, [None,1])\n",
    "y_ = tf.placeholder(tf.float32, [None,1])\n",
    " \n",
    "n_hidden=10\n",
    " \n",
    "Wx=tf.Variable(tf.random_normal(stddev=0.1,shape=[1,n_hidden]))\n",
    "Wy=tf.Variable(tf.random_normal(stddev=0.1,shape=[1,n_hidden]))\n",
    "b=tf.Variable(tf.constant(0.1,shape=[n_hidden]))\n",
    " \n",
    "hidden_joint=tf.nn.relu(tf.matmul(x,Wx)+tf.matmul(y,Wy)+b)\n",
    "hidden_marg=tf.nn.relu(tf.matmul(x,Wx)+tf.matmul(y_,Wy)+b)\n",
    " \n",
    "Wout=tf.Variable(tf.random_normal(stddev=0.1,shape=[n_hidden,1]))\n",
    "bout=tf.Variable(tf.constant(0.1,shape=[1]))\n",
    " \n",
    "out_joint=tf.matmul(hidden_joint,Wout)+bout\n",
    "out_marg=tf.matmul(hidden_marg,Wout)+bout\n",
    " \n",
    "lower_bound=tf.reduce_mean(out_joint)-tf.log(tf.reduce_mean(tf.exp(out_marg)))\n",
    " \n",
    "train_step = tf.train.AdamOptimizer(0.005).minimize(-lower_bound)\n",
    "\n",
    "values = []\n",
    "sess = tf.InteractiveSession()\n",
    "sess.run(tf.global_variables_initializer())\n",
    "for i in range(1000):\n",
    "    x_sample=np.sign(np.random.normal(0.,1.,[N,1]))#np.random.normal(0.,1.,[N,1])\n",
    "    y_sample=x_sample+np.random.normal(0.,np.sqrt(sig2),[N,1])\n",
    "    y_shuffle=np.random.permutation(y_sample)\n",
    "    number,_ = sess.run([lower_bound,train_step], feed_dict={x:x_sample,y:y_sample,y_:y_shuffle})\n",
    "    values.append(number)"
   ]
  },
  {
   "cell_type": "code",
   "execution_count": 18,
   "metadata": {},
   "outputs": [
    {
     "name": "stdout",
     "output_type": "stream",
     "text": [
      "1000\n"
     ]
    }
   ],
   "source": [
    "print(len(values))"
   ]
  },
  {
   "cell_type": "code",
   "execution_count": 19,
   "metadata": {},
   "outputs": [
    {
     "data": {
      "image/png": "[encoded data removed]",
      "text/plain": [
       "<Figure size 432x288 with 1 Axes>"
      ]
     },
     "metadata": {
      "needs_background": "light"
     },
     "output_type": "display_data"
    }
   ],
   "source": [
    "plt.plot(values)\n",
    "plt.plot(np.ones_like(values)*mi)\n",
    "plt.show()"
   ]
  },
  {
   "cell_type": "code",
   "execution_count": 20,
   "metadata": {},
   "outputs": [
    {
     "data": {
      "text/plain": [
       "0.9503243548485034"
      ]
     },
     "execution_count": 20,
     "metadata": {},
     "output_type": "execute_result"
    }
   ],
   "source": [
    "mi"
   ]
  },
  {
   "cell_type": "code",
   "execution_count": 23,
   "metadata": {},
   "outputs": [
    {
     "data": {
      "text/plain": [
       "0.6587663934631787"
      ]
     },
     "execution_count": 23,
     "metadata": {},
     "output_type": "execute_result"
    }
   ],
   "source": []
  },
  {
   "cell_type": "code",
   "execution_count": null,
   "metadata": {},
   "outputs": [],
   "source": []
  },
  {
   "cell_type": "code",
   "execution_count": 22,
   "metadata": {},
   "outputs": [
    {
     "name": "stdout",
     "output_type": "stream",
     "text": [
      "[master ce980d8] commit\n",
      " 2 files changed, 129 insertions(+), 37 deletions(-)\n",
      "Counting objects: 5, done.\n",
      "Delta compression using up to 4 threads.\n",
      "Compressing objects: 100% (5/5), done.\n",
      "Writing objects: 100% (5/5), 1.92 KiB | 1.92 MiB/s, done.\n",
      "Total 5 (delta 3), reused 0 (delta 0)\n",
      "remote: Resolving deltas: 100% (3/3), completed with 2 local objects.\u001b[K\n",
      "To https://github.com/JaeDukSeo/Mututal-Information.git\n",
      "   3870658..ce980d8  master -> master\n"
     ]
    }
   ],
   "source": [
    "! git all-go"
   ]
  },
  {
   "cell_type": "code",
   "execution_count": null,
   "metadata": {},
   "outputs": [],
   "source": []
  }
 ],
 "metadata": {
  "kernelspec": {
   "display_name": "Python 3",
   "language": "python",
   "name": "python3"
  },
  "language_info": {
   "codemirror_mode": {
    "name": "ipython",
    "version": 3
   },
   "file_extension": ".py",
   "mimetype": "text/x-python",
   "name": "python",
   "nbconvert_exporter": "python",
   "pygments_lexer": "ipython3",
   "version": "3.6.8"
  },
  "latex_envs": {
   "LaTeX_envs_menu_present": true,
   "autoclose": false,
   "autocomplete": true,
   "bibliofile": "biblio.bib",
   "cite_by": "apalike",
   "current_citInitial": 1,
   "eqLabelWithNumbers": true,
   "eqNumInitial": 1,
   "hotkeys": {
    "equation": "Ctrl-E",
    "itemize": "Ctrl-I"
   },
   "labels_anchors": false,
   "latex_user_defs": false,
   "report_style_numbering": false,
   "user_envs_cfg": false
  },
  "toc": {
   "base_numbering": 1,
   "nav_menu": {},
   "number_sections": true,
   "sideBar": true,
   "skip_h1_title": false,
   "title_cell": "Table of Contents",
   "title_sidebar": "Contents",
   "toc_cell": false,
   "toc_position": {},
   "toc_section_display": true,
   "toc_window_display": false
  }
 },
 "nbformat": 4,
 "nbformat_minor": 2
}
