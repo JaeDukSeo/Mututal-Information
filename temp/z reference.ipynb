{
 "cells": [
  {
   "cell_type": "code",
   "execution_count": 3,
   "metadata": {
    "ExecuteTime": {
     "end_time": "2018-11-26T00:24:58.403710Z",
     "start_time": "2018-11-26T00:24:58.400702Z"
    }
   },
   "outputs": [],
   "source": [
    "# import lib\n",
    "import tensorflow as tf\n",
    "import numpy as np\n",
    "import matplotlib.pyplot as plt"
   ]
  },
  {
   "cell_type": "code",
   "execution_count": 10,
   "metadata": {
    "ExecuteTime": {
     "end_time": "2018-11-26T00:26:27.755131Z",
     "start_time": "2018-11-26T00:26:27.583040Z"
    }
   },
   "outputs": [],
   "source": [
    "# create the graph \n",
    "x = tf.placeholder(tf.float32, [None,1])\n",
    "y = tf.placeholder(tf.float32, [None,1])\n",
    "y_ = tf.placeholder(tf.float32, [None,1])\n",
    " \n",
    "n_hidden=10\n",
    " \n",
    "Wx= tf.Variable(tf.random_normal(stddev=0.1,shape=[1,n_hidden]))\n",
    "Wy= tf.Variable(tf.random_normal(stddev=0.1,shape=[1,n_hidden]))\n",
    "b = tf.Variable(tf.constant(0.1,shape=[n_hidden]))\n",
    " \n",
    "Wout=tf.Variable(tf.random_normal(stddev=0.1,shape=[n_hidden,1]))\n",
    "bout=tf.Variable(tf.constant(0.1,shape=[1]))    \n",
    "\n",
    "hidden_joint = tf.nn.relu(tf.matmul(x,Wx) + tf.matmul(y,Wy) + b)\n",
    "hidden_marg  = tf.nn.relu(tf.matmul(x,Wx) + tf.matmul(y_,Wy)+ b)\n",
    " \n",
    "out_joint = tf.matmul(hidden_joint,Wout) + bout\n",
    "out_marg  = tf.matmul(hidden_marg, Wout) + bout\n",
    " \n",
    "lower_bound=tf.reduce_mean(out_joint)-tf.log(tf.reduce_mean(tf.exp(out_marg)))\n",
    " \n",
    "train_step = tf.train.AdamOptimizer(0.005).minimize(-lower_bound)"
   ]
  },
  {
   "cell_type": "code",
   "execution_count": 13,
   "metadata": {
    "ExecuteTime": {
     "end_time": "2018-11-26T00:27:49.989344Z",
     "start_time": "2018-11-26T00:27:46.540730Z"
    }
   },
   "outputs": [
    {
     "name": "stdout",
     "output_type": "stream",
     "text": [
      "-0.0043915287\n",
      "-0.00097478926\n",
      "0.002220422\n",
      "0.005317867\n",
      "0.008206099\n",
      "0.010843992\n",
      "0.013984427\n",
      "0.017047882\n",
      "0.019733086\n",
      "0.023002401\n",
      "0.026172504\n",
      "0.02928549\n",
      "0.032678694\n",
      "0.03679703\n",
      "0.040310606\n",
      "0.044233963\n",
      "0.048408434\n",
      "0.052164495\n",
      "0.05679919\n",
      "0.06096746\n",
      "0.066396564\n",
      "0.0710226\n",
      "0.07615799\n",
      "0.081620246\n",
      "0.086665675\n",
      "0.09271777\n",
      "0.09775914\n",
      "0.103957176\n",
      "0.11061339\n",
      "0.11689904\n",
      "0.12405619\n",
      "0.12815256\n",
      "0.13961864\n",
      "0.14321008\n",
      "0.15306668\n",
      "0.15670934\n",
      "0.1650778\n",
      "0.17205897\n",
      "0.1838511\n",
      "0.19233683\n",
      "0.19642255\n",
      "0.20555726\n",
      "0.2166282\n",
      "0.22143063\n",
      "0.23389012\n",
      "0.23838964\n",
      "0.24465927\n",
      "0.2534142\n",
      "0.26901823\n",
      "0.27346623\n",
      "0.2819459\n",
      "0.28912744\n",
      "0.29729787\n",
      "0.30513102\n",
      "0.31343025\n",
      "0.32545304\n",
      "0.33407867\n",
      "0.33068967\n",
      "0.34567073\n",
      "0.353488\n",
      "0.36190924\n",
      "0.3731696\n",
      "0.3767264\n",
      "0.3826611\n",
      "0.38785952\n",
      "0.39181244\n",
      "0.39523995\n",
      "0.41450375\n",
      "0.41444784\n",
      "0.40982664\n",
      "0.42227024\n",
      "0.4218608\n",
      "0.44081706\n",
      "0.4380715\n",
      "0.44229907\n",
      "0.4465605\n",
      "0.4465412\n",
      "0.45884955\n",
      "0.46882832\n",
      "0.4531756\n",
      "0.47210574\n",
      "0.4817744\n",
      "0.47342145\n",
      "0.48097277\n",
      "0.48956794\n",
      "0.48556924\n",
      "0.4946552\n",
      "0.50888175\n",
      "0.50394154\n",
      "0.50815696\n",
      "0.5000842\n",
      "0.51170164\n",
      "0.51526105\n",
      "0.51640403\n",
      "0.5214473\n",
      "0.52661914\n",
      "0.52987474\n",
      "0.52669114\n",
      "0.5385013\n",
      "0.5310899\n",
      "0.5241322\n",
      "0.53539\n",
      "0.5408268\n",
      "0.54873264\n",
      "0.5457289\n",
      "0.54678845\n",
      "0.5388881\n",
      "0.5392995\n",
      "0.5522703\n",
      "0.55745256\n",
      "0.5566416\n",
      "0.5723535\n",
      "0.5613053\n",
      "0.55764425\n",
      "0.5590396\n",
      "0.5684017\n",
      "0.56257653\n",
      "0.56559944\n",
      "0.57068276\n",
      "0.57560873\n",
      "0.57486546\n",
      "0.57115054\n",
      "0.56609976\n",
      "0.57694185\n",
      "0.5815575\n",
      "0.5781398\n",
      "0.56939757\n",
      "0.5775635\n",
      "0.5809319\n",
      "0.5781195\n",
      "0.58628356\n",
      "0.58070564\n",
      "0.5897442\n",
      "0.579808\n"
     ]
    },
    {
     "ename": "KeyboardInterrupt",
     "evalue": "",
     "output_type": "error",
     "traceback": [
      "\u001b[1;31m---------------------------------------------------------------------------\u001b[0m",
      "\u001b[1;31mKeyboardInterrupt\u001b[0m                         Traceback (most recent call last)",
      "\u001b[1;32m<ipython-input-13-401d77d10621>\u001b[0m in \u001b[0;36m<module>\u001b[1;34m()\u001b[0m\n\u001b[0;32m      6\u001b[0m     \u001b[0mx_sample\u001b[0m\u001b[1;33m=\u001b[0m\u001b[0mnp\u001b[0m\u001b[1;33m.\u001b[0m\u001b[0msign\u001b[0m\u001b[1;33m(\u001b[0m\u001b[0mnp\u001b[0m\u001b[1;33m.\u001b[0m\u001b[0mrandom\u001b[0m\u001b[1;33m.\u001b[0m\u001b[0mnormal\u001b[0m\u001b[1;33m(\u001b[0m\u001b[1;36m0.\u001b[0m\u001b[1;33m,\u001b[0m\u001b[1;36m1.\u001b[0m\u001b[1;33m,\u001b[0m\u001b[1;33m[\u001b[0m\u001b[0mN\u001b[0m\u001b[1;33m,\u001b[0m\u001b[1;36m1\u001b[0m\u001b[1;33m]\u001b[0m\u001b[1;33m)\u001b[0m\u001b[1;33m)\u001b[0m\u001b[1;31m#np.random.normal(0.,1.,[N,1])\u001b[0m\u001b[1;33m\u001b[0m\u001b[0m\n\u001b[0;32m      7\u001b[0m     \u001b[0my_sample\u001b[0m\u001b[1;33m=\u001b[0m\u001b[0mx_sample\u001b[0m\u001b[1;33m+\u001b[0m\u001b[0mnp\u001b[0m\u001b[1;33m.\u001b[0m\u001b[0mrandom\u001b[0m\u001b[1;33m.\u001b[0m\u001b[0mnormal\u001b[0m\u001b[1;33m(\u001b[0m\u001b[1;36m0.\u001b[0m\u001b[1;33m,\u001b[0m\u001b[0mnp\u001b[0m\u001b[1;33m.\u001b[0m\u001b[0msqrt\u001b[0m\u001b[1;33m(\u001b[0m\u001b[0msig2\u001b[0m\u001b[1;33m)\u001b[0m\u001b[1;33m,\u001b[0m\u001b[1;33m[\u001b[0m\u001b[0mN\u001b[0m\u001b[1;33m,\u001b[0m\u001b[1;36m1\u001b[0m\u001b[1;33m]\u001b[0m\u001b[1;33m)\u001b[0m\u001b[1;33m\u001b[0m\u001b[0m\n\u001b[1;32m----> 8\u001b[1;33m     \u001b[0my_shuffle\u001b[0m\u001b[1;33m=\u001b[0m\u001b[0mnp\u001b[0m\u001b[1;33m.\u001b[0m\u001b[0mrandom\u001b[0m\u001b[1;33m.\u001b[0m\u001b[0mpermutation\u001b[0m\u001b[1;33m(\u001b[0m\u001b[0my_sample\u001b[0m\u001b[1;33m)\u001b[0m\u001b[1;33m\u001b[0m\u001b[0m\n\u001b[0m\u001b[0;32m      9\u001b[0m     \u001b[0msess_results\u001b[0m \u001b[1;33m=\u001b[0m \u001b[0msess\u001b[0m\u001b[1;33m.\u001b[0m\u001b[0mrun\u001b[0m\u001b[1;33m(\u001b[0m\u001b[1;33m[\u001b[0m\u001b[0mlower_bound\u001b[0m\u001b[1;33m,\u001b[0m\u001b[0mtrain_step\u001b[0m\u001b[1;33m]\u001b[0m\u001b[1;33m,\u001b[0m \u001b[0mfeed_dict\u001b[0m\u001b[1;33m=\u001b[0m\u001b[1;33m{\u001b[0m\u001b[0mx\u001b[0m\u001b[1;33m:\u001b[0m\u001b[0mx_sample\u001b[0m\u001b[1;33m,\u001b[0m\u001b[0my\u001b[0m\u001b[1;33m:\u001b[0m\u001b[0my_sample\u001b[0m\u001b[1;33m,\u001b[0m\u001b[0my_\u001b[0m\u001b[1;33m:\u001b[0m\u001b[0my_shuffle\u001b[0m\u001b[1;33m}\u001b[0m\u001b[1;33m)\u001b[0m\u001b[1;33m\u001b[0m\u001b[0m\n\u001b[0;32m     10\u001b[0m     \u001b[0mprint\u001b[0m\u001b[1;33m(\u001b[0m\u001b[0msess_results\u001b[0m\u001b[1;33m[\u001b[0m\u001b[1;36m0\u001b[0m\u001b[1;33m]\u001b[0m\u001b[1;33m)\u001b[0m\u001b[1;33m\u001b[0m\u001b[0m\n",
      "\u001b[1;31mKeyboardInterrupt\u001b[0m: "
     ]
    }
   ],
   "source": [
    "# sess = tf.InteractiveSession()\n",
    "sess.run(tf.global_variables_initializer())\n",
    "sig2=0.2#1.0\n",
    "N=20000\n",
    "for i in range(1000):\n",
    "    x_sample=np.sign(np.random.normal(0.,1.,[N,1]))#np.random.normal(0.,1.,[N,1])\n",
    "    y_sample=x_sample+np.random.normal(0.,np.sqrt(sig2),[N,1])\n",
    "    y_shuffle=np.random.permutation(y_sample)\n",
    "    sess_results = sess.run([lower_bound,train_step], feed_dict={x:x_sample,y:y_sample,y_:y_shuffle})\n",
    "    print(sess_results[0])"
   ]
  },
  {
   "cell_type": "code",
   "execution_count": 14,
   "metadata": {
    "ExecuteTime": {
     "end_time": "2018-11-26T00:32:06.143120Z",
     "start_time": "2018-11-26T00:32:06.125169Z"
    }
   },
   "outputs": [],
   "source": [
    "N=100000\n",
    "sig2=0.2\n",
    "x=np.sign(np.random.normal(0.,1.,[N,1]))\n",
    "y=x+np.random.normal(0.,np.sqrt(sig2),[N,1])\n",
    "p_y_x=np.exp(-(y-x)**2/(2*sig2))\n",
    "p_y_x_minus=np.exp(-(y+1)**2/(2*sig2))\n",
    "p_y_x_plus=np.exp(-(y-1)**2/(2*sig2))\n",
    "mi=np.average(np.log2(p_y_x/(0.5*p_y_x_minus+0.5*p_y_x_plus)))"
   ]
  },
  {
   "cell_type": "code",
   "execution_count": null,
   "metadata": {},
   "outputs": [],
   "source": []
  },
  {
   "cell_type": "code",
   "execution_count": null,
   "metadata": {},
   "outputs": [],
   "source": []
  },
  {
   "cell_type": "code",
   "execution_count": null,
   "metadata": {},
   "outputs": [],
   "source": []
  },
  {
   "cell_type": "code",
   "execution_count": null,
   "metadata": {},
   "outputs": [],
   "source": []
  }
 ],
 "metadata": {
  "kernelspec": {
   "display_name": "Python 3",
   "language": "python",
   "name": "python3"
  },
  "language_info": {
   "codemirror_mode": {
    "name": "ipython",
    "version": 3
   },
   "file_extension": ".py",
   "mimetype": "text/x-python",
   "name": "python",
   "nbconvert_exporter": "python",
   "pygments_lexer": "ipython3",
   "version": "3.6.5"
  },
  "latex_envs": {
   "LaTeX_envs_menu_present": true,
   "autoclose": false,
   "autocomplete": true,
   "bibliofile": "biblio.bib",
   "cite_by": "apalike",
   "current_citInitial": 1,
   "eqLabelWithNumbers": true,
   "eqNumInitial": 1,
   "hotkeys": {
    "equation": "Ctrl-E",
    "itemize": "Ctrl-I"
   },
   "labels_anchors": false,
   "latex_user_defs": false,
   "report_style_numbering": false,
   "user_envs_cfg": false
  },
  "varInspector": {
   "cols": {
    "lenName": 16,
    "lenType": 16,
    "lenVar": 40
   },
   "kernels_config": {
    "python": {
     "delete_cmd_postfix": "",
     "delete_cmd_prefix": "del ",
     "library": "var_list.py",
     "varRefreshCmd": "print(var_dic_list())"
    },
    "r": {
     "delete_cmd_postfix": ") ",
     "delete_cmd_prefix": "rm(",
     "library": "var_list.r",
     "varRefreshCmd": "cat(var_dic_list()) "
    }
   },
   "types_to_exclude": [
    "module",
    "function",
    "builtin_function_or_method",
    "instance",
    "_Feature"
   ],
   "window_display": false
  }
 },
 "nbformat": 4,
 "nbformat_minor": 2
}
