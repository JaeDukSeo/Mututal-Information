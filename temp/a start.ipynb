{
 "cells": [
  {
   "cell_type": "code",
   "execution_count": 2,
   "metadata": {
    "ExecuteTime": {
     "end_time": "2018-11-30T17:58:04.853544Z",
     "start_time": "2018-11-30T17:58:04.828377Z"
    }
   },
   "outputs": [],
   "source": [
    "# import library \n",
    "import tensorflow as tf \n",
    "import numpy      as np \n",
    "import matplotlib.pyplot as plt\n",
    "\n",
    "np.random.seed(789); tf.set_random_seed(789)"
   ]
  },
  {
   "cell_type": "code",
   "execution_count": 6,
   "metadata": {
    "ExecuteTime": {
     "end_time": "2018-11-30T18:02:22.152039Z",
     "start_time": "2018-11-30T18:02:22.123116Z"
    }
   },
   "outputs": [],
   "source": [
    "# hyper parameter\n",
    "num_epoch = 100 ; learning_rate = 0.0001; n_hidden = 100\n",
    "\n",
    "Wx = tf.Variable(tf.random_normal(stddev=0.1,shape=[1,n_hidden]))\n",
    "Wy = tf.Variable(tf.random_normal(stddev=0.1,shape=[1,n_hidden]))\n",
    "b  = tf.Variable(tf.constant(0.1,shape=[n_hidden]))\n",
    "\n",
    "Wout=tf.Variable(tf.random_normal(stddev=0.1,shape=[n_hidden,1]))\n",
    "bout=tf.Variable(tf.constant(0.1,shape=[1]))"
   ]
  },
  {
   "cell_type": "code",
   "execution_count": 7,
   "metadata": {
    "ExecuteTime": {
     "end_time": "2018-11-30T18:02:23.367314Z",
     "start_time": "2018-11-30T18:02:23.201522Z"
    }
   },
   "outputs": [],
   "source": [
    "# build the graph\n",
    "x  = tf.placeholder(tf.float32, [None,1])\n",
    "y  = tf.placeholder(tf.float32, [None,1])\n",
    "y_ = tf.placeholder(tf.float32, [None,1])\n",
    "\n",
    "hidden_joint = tf.nn.relu(tf.matmul(x,Wx)+tf.matmul(y,Wy) +b)\n",
    "out_joint    = tf.matmul(hidden_joint,Wout)+bout\n",
    "\n",
    "hidden_marg  = tf.nn.relu(tf.matmul(x,Wx)+tf.matmul(y_,Wy)+b)\n",
    "out_marg     = tf.matmul(hidden_marg, Wout)+bout\n",
    " \n",
    "lower_bound  = tf.reduce_mean(out_joint) - tf.log(tf.reduce_mean(tf.exp(out_marg)))"
   ]
  },
  {
   "cell_type": "code",
   "execution_count": 9,
   "metadata": {
    "ExecuteTime": {
     "end_time": "2018-11-30T18:34:02.620270Z",
     "start_time": "2018-11-30T18:34:02.614286Z"
    }
   },
   "outputs": [
    {
     "name": "stdout",
     "output_type": "stream",
     "text": [
      "[[1.]\n",
      " [1.]\n",
      " [1.]\n",
      " [1.]\n",
      " [1.]]\n",
      "[[0.73599246]\n",
      " [1.13253739]\n",
      " [1.19366782]\n",
      " [1.35059116]\n",
      " [1.10137396]]\n",
      "[[1.10137396]\n",
      " [0.73599246]\n",
      " [1.13253739]\n",
      " [1.35059116]\n",
      " [1.19366782]]\n"
     ]
    }
   ],
   "source": [
    "# start the training\n",
    "sig2= 0.2; N   = 5\n",
    "for i in range(1):\n",
    "    x_sample  = np.sign(np.random.normal(0.,1.,[N,1]))#np.random.normal(0.,1.,[N,1])\n",
    "    y_sample  = x_sample+np.random.normal(0.,np.sqrt(sig2),[N,1])\n",
    "    y_shuffle = np.random.permutation(y_sample)\n",
    "    print(x_sample)\n",
    "    print(y_sample)    \n",
    "    print(y_shuffle)    "
   ]
  },
  {
   "cell_type": "code",
   "execution_count": null,
   "metadata": {},
   "outputs": [],
   "source": []
  },
  {
   "cell_type": "code",
   "execution_count": null,
   "metadata": {},
   "outputs": [],
   "source": []
  },
  {
   "cell_type": "code",
   "execution_count": null,
   "metadata": {},
   "outputs": [],
   "source": []
  },
  {
   "cell_type": "code",
   "execution_count": null,
   "metadata": {},
   "outputs": [],
   "source": []
  },
  {
   "cell_type": "code",
   "execution_count": null,
   "metadata": {},
   "outputs": [],
   "source": []
  },
  {
   "cell_type": "markdown",
   "metadata": {},
   "source": [
    "# Reference\n",
    "1. MasanoriYamada/Mine_pytorch. (2018). GitHub. Retrieved 26 November 2018, from https://github.com/MasanoriYamada/Mine_pytorch/blob/master/mine.ipynb\n",
    "2. What is information theory? What does entropy measure? Mutual information?. (2016). Charlesfrye.github.io. Retrieved 26 November 2018, from https://charlesfrye.github.io/stats/2016/03/29/info-theory-surprise-entropy.html\n",
    "3. Mutual information estimation from samples via optimization. (2018). Mlmeetsdigcomm.wordpress.com. Retrieved 26 November 2018, from https://mlmeetsdigcomm.wordpress.com/2018/01/24/mutual-information-estimation-from-samples-via-optimization/comment-page-1/#comment-11\n",
    "4. How to calculate mutual information with a NN + an application to GAN mode-dropping. (2018). Deep Learning Course Forums. Retrieved 26 November 2018, from https://forums.fast.ai/t/how-to-calculate-mutual-information-with-a-nn-an-application-to-gan-mode-dropping/14141\n",
    "5. "
   ]
  }
 ],
 "metadata": {
  "kernelspec": {
   "display_name": "Python 3",
   "language": "python",
   "name": "python3"
  },
  "language_info": {
   "codemirror_mode": {
    "name": "ipython",
    "version": 3
   },
   "file_extension": ".py",
   "mimetype": "text/x-python",
   "name": "python",
   "nbconvert_exporter": "python",
   "pygments_lexer": "ipython3",
   "version": "3.6.5"
  },
  "latex_envs": {
   "LaTeX_envs_menu_present": true,
   "autoclose": false,
   "autocomplete": true,
   "bibliofile": "biblio.bib",
   "cite_by": "apalike",
   "current_citInitial": 1,
   "eqLabelWithNumbers": true,
   "eqNumInitial": 1,
   "hotkeys": {
    "equation": "Ctrl-E",
    "itemize": "Ctrl-I"
   },
   "labels_anchors": false,
   "latex_user_defs": false,
   "report_style_numbering": false,
   "user_envs_cfg": false
  },
  "varInspector": {
   "cols": {
    "lenName": 16,
    "lenType": 16,
    "lenVar": 40
   },
   "kernels_config": {
    "python": {
     "delete_cmd_postfix": "",
     "delete_cmd_prefix": "del ",
     "library": "var_list.py",
     "varRefreshCmd": "print(var_dic_list())"
    },
    "r": {
     "delete_cmd_postfix": ") ",
     "delete_cmd_prefix": "rm(",
     "library": "var_list.r",
     "varRefreshCmd": "cat(var_dic_list()) "
    }
   },
   "types_to_exclude": [
    "module",
    "function",
    "builtin_function_or_method",
    "instance",
    "_Feature"
   ],
   "window_display": false
  }
 },
 "nbformat": 4,
 "nbformat_minor": 2
}
